{
 "cells": [
  {
   "cell_type": "code",
   "execution_count": 48,
   "id": "db1a8bab-95a7-4535-96cc-2d1c013ba742",
   "metadata": {},
   "outputs": [
    {
     "name": "stdout",
     "output_type": "stream",
     "text": [
      "Play World History Trivia!\n",
      "press q to start\n",
      "click t for true\n",
      "click f for false\n"
     ]
    },
    {
     "name": "stdin",
     "output_type": "stream",
     "text": [
      "The Germans and Japanese were on the same side during WW2 t\n"
     ]
    },
    {
     "name": "stdout",
     "output_type": "stream",
     "text": [
      "that is correct\n"
     ]
    },
    {
     "name": "stdin",
     "output_type": "stream",
     "text": [
      "Alexander Hamilton was one of the founding fathers t\n"
     ]
    },
    {
     "name": "stdout",
     "output_type": "stream",
     "text": [
      "that is incorrect\n"
     ]
    },
    {
     "name": "stdin",
     "output_type": "stream",
     "text": [
      "Julius Ceasar died of a fever f\n"
     ]
    },
    {
     "name": "stdout",
     "output_type": "stream",
     "text": [
      "that is correct\n"
     ]
    },
    {
     "name": "stdin",
     "output_type": "stream",
     "text": [
      "Alexande Graham Bell invented the telephone t\n"
     ]
    },
    {
     "name": "stdout",
     "output_type": "stream",
     "text": [
      "that is correct\n"
     ]
    },
    {
     "name": "stdin",
     "output_type": "stream",
     "text": [
      "The United states bought Alaska in 1867 t\n"
     ]
    },
    {
     "name": "stdout",
     "output_type": "stream",
     "text": [
      "that is correct\n"
     ]
    }
   ],
   "source": [
    "print('Play World History Trivia!')\n",
    "print('press q to start')\n",
    "print('click t for true')\n",
    "print('click f for false')\n",
    "\n",
    "answer = input('The Germans and Japanese were on the same side during WW2')\n",
    "\n",
    "if answer == ('t'):\n",
    "    print('that is correct')\n",
    "elif answer1 == ('f'):\n",
    "    print('that is incorrect')\n",
    "else:\n",
    "    print('ummm thats not a valid answer')\n",
    "    \n",
    "    \n",
    "answer = input('Alexander Hamilton was one of the founding fathers')\n",
    "\n",
    "if answer == ('t'):\n",
    "    print('that is incorrect')\n",
    "elif answer == ('f'):\n",
    "    print('that is correct')\n",
    "else:\n",
    "    print('ummm thats not a valid answer')\n",
    "\n",
    "\n",
    "    \n",
    "answer = input('Julius Ceasar died of a fever')\n",
    "\n",
    "if answer == ('t'):\n",
    "    print('that is incorrect')\n",
    "elif answer == ('f'):\n",
    "    print('that is correct')\n",
    "else:\n",
    "    print('ummm thats not a valid answer')\n",
    "    \n",
    "answer = input('Alexande Graham Bell invented the telephone')\n",
    "\n",
    "if answer == ('t'):\n",
    "    print('that is correct')\n",
    "elif answer == ('f'):\n",
    "    print('that is incorrect')\n",
    "else:\n",
    "    print('ummm thats not a valid answer')\n",
    "    \n",
    "answer = input('The United states bought Alaska in 1867')\n",
    "\n",
    "if answer == ('t'):\n",
    "    print('that is correct')\n",
    "elif answer == ('f'):\n",
    "    print('that is incorrect')\n",
    "else:\n",
    "    print('ummm thats not a valid answer')\n",
    "\n",
    "        \n",
    "    \n"
   ]
  },
  {
   "cell_type": "code",
   "execution_count": 16,
   "id": "94ae47d9-ad37-4cbc-9555-87181764ad33",
   "metadata": {},
   "outputs": [
    {
     "ename": "NameError",
     "evalue": "name 't' is not defined",
     "output_type": "error",
     "traceback": [
      "\u001b[0;31m---------------------------------------------------------------------------\u001b[0m",
      "\u001b[0;31mNameError\u001b[0m                                 Traceback (most recent call last)",
      "Cell \u001b[0;32mIn[16], line 1\u001b[0m\n\u001b[0;32m----> 1\u001b[0m t\n",
      "\u001b[0;31mNameError\u001b[0m: name 't' is not defined"
     ]
    }
   ],
   "source": []
  },
  {
   "cell_type": "code",
   "execution_count": null,
   "id": "1c7e2be2-73b0-418f-866d-63979e4953ea",
   "metadata": {},
   "outputs": [],
   "source": []
  }
 ],
 "metadata": {
  "kernelspec": {
   "display_name": "anaconda-panel-2023.05-py310",
   "language": "python",
   "name": "conda-env-anaconda-panel-2023.05-py310-py"
  },
  "language_info": {
   "codemirror_mode": {
    "name": "ipython",
    "version": 3
   },
   "file_extension": ".py",
   "mimetype": "text/x-python",
   "name": "python",
   "nbconvert_exporter": "python",
   "pygments_lexer": "ipython3",
   "version": "3.11.4"
  }
 },
 "nbformat": 4,
 "nbformat_minor": 5
}
